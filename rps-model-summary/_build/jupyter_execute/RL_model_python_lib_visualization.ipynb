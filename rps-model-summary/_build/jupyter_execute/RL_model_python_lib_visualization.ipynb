{
 "cells": [
  {
   "cell_type": "markdown",
   "id": "7bb758be",
   "metadata": {},
   "source": [
    "# `RL_model_visualization.py`"
   ]
  },
  {
   "cell_type": "code",
   "execution_count": 1,
   "id": "b6d7a64c",
   "metadata": {},
   "outputs": [
    {
     "ename": "ModuleNotFoundError",
     "evalue": "No module named 'matplotlib'",
     "output_type": "error",
     "traceback": [
      "\u001b[0;31m---------------------------------------------------------------------------\u001b[0m",
      "\u001b[0;31mModuleNotFoundError\u001b[0m                       Traceback (most recent call last)",
      "Input \u001b[0;32mIn [1]\u001b[0m, in \u001b[0;36m<cell line: 6>\u001b[0;34m()\u001b[0m\n\u001b[1;32m      1\u001b[0m \u001b[38;5;124;03m\"\"\"\u001b[39;00m\n\u001b[1;32m      2\u001b[0m \u001b[38;5;124;03mLibrary for visualizing model output\u001b[39;00m\n\u001b[1;32m      3\u001b[0m \u001b[38;5;124;03mThese functions are primarily graphing functions, with some supporting functions as well\u001b[39;00m\n\u001b[1;32m      4\u001b[0m \u001b[38;5;124;03m\"\"\"\u001b[39;00m\n\u001b[0;32m----> 6\u001b[0m \u001b[38;5;28;01mimport\u001b[39;00m \u001b[38;5;21;01mmatplotlib\u001b[39;00m\u001b[38;5;21;01m.\u001b[39;00m\u001b[38;5;21;01mpyplot\u001b[39;00m \u001b[38;5;28;01mas\u001b[39;00m \u001b[38;5;21;01mplt\u001b[39;00m\n\u001b[1;32m      7\u001b[0m \u001b[38;5;28;01mimport\u001b[39;00m \u001b[38;5;21;01mnumpy\u001b[39;00m \u001b[38;5;28;01mas\u001b[39;00m \u001b[38;5;21;01mnp\u001b[39;00m\n\u001b[1;32m      8\u001b[0m \u001b[38;5;28;01mimport\u001b[39;00m \u001b[38;5;21;01mpandas\u001b[39;00m \u001b[38;5;28;01mas\u001b[39;00m \u001b[38;5;21;01mpd\u001b[39;00m\n",
      "\u001b[0;31mModuleNotFoundError\u001b[0m: No module named 'matplotlib'"
     ]
    }
   ],
   "source": [
    "\"\"\"\n",
    "Library for visualizing model output\n",
    "These functions are primarily graphing functions, with some supporting functions as well\n",
    "\"\"\"\n",
    "\n",
    "import matplotlib.pyplot as plt\n",
    "import numpy as np\n",
    "import pandas as pd\n",
    "from scipy import stats\n",
    "import seaborn as sns\n",
    "\n",
    "\n",
    "\n",
    "N_ROUNDS = 300\n",
    "def groupby_f_data(f_data, colname, bins):\n",
    "    \"\"\"\n",
    "    group by filtered data with player outcome and calculate the win percentage\n",
    "    colname will be either 'player_outcome' or 'agent_outcome' for plotting human or agent results\n",
    "    \"\"\"\n",
    "    modified_f_data = f_data.dropna()\n",
    "    labs = [str(int(round(a * (N_ROUNDS / bins), 0))) for a in range(1, bins + 1)]\n",
    "    modified_f_data= modified_f_data.assign(bin= pd.cut(modified_f_data.loc[:, ('round_index')], bins, labels = labs))\n",
    "    grouped_data = modified_f_data[['bot_strategy', 'player_id','bin', colname]].groupby(\n",
    "        ['bot_strategy', 'player_id', 'bin'])[colname].value_counts('count').rename('pct').reset_index()\n",
    "    \n",
    "    return grouped_data\n",
    "\n",
    "\n",
    "def win_summary(grouped_data, colname):\n",
    "    \"\"\"\n",
    "    filter out the win data and add mean, SD, and SEM\n",
    "    colname will be either 'player_outcome' or 'agent_outcome' for plotting human or agent results\n",
    "    \"\"\"\n",
    "    win_data = grouped_data[grouped_data[colname] == 'win'].reset_index()\n",
    "    win_summary = win_data[['bot_strategy', 'bin', 'pct']].groupby(\n",
    "        ['bot_strategy', 'bin'])['pct'].agg(\n",
    "            [np.mean, np.std, stats.sem]).reset_index()\n",
    "    \n",
    "    return win_summary\n",
    "\n",
    "\n",
    "def plot_win_rates(data):\n",
    "    \"\"\"\n",
    "    generate plot displaying win rates against each bot, binned by rounds\n",
    "    \"\"\"\n",
    "    sns.set_style(style='white')\n",
    "    data['bot_strategy'] = data['bot_strategy'].replace([\n",
    "        'prev_move_positive', 'prev_move_negative', \n",
    "        'opponent_prev_move_positive', 'opponent_prev_move_nil',\n",
    "        'win_nil_lose_positive', 'win_positive_lose_negative',\n",
    "        'outcome_transition_dual_dependency'\n",
    "    ],\n",
    "    [\n",
    "        'Previous move (+)', 'Previous move (-)',\n",
    "        'Opponent previous move (+)', 'Opponent previous move (0)',\n",
    "        'Win-stay-lose-positive', 'Win-positive-lose-negative',\n",
    "        'Outcome-transition dual dependency'\n",
    "    ])\n",
    "    \n",
    "    f, ax = plt.subplots(figsize=(15, 10))\n",
    "    g = sns.scatterplot(\n",
    "        x = \"bin\", y = \"mean\", hue = \"bot_strategy\", \n",
    "        hue_order = [\n",
    "            'Previous move (+)', 'Previous move (-)',\n",
    "            'Opponent previous move (+)', 'Opponent previous move (0)',\n",
    "            'Win-stay-lose-positive', 'Win-positive-lose-negative',\n",
    "            'Outcome-transition dual dependency'\n",
    "        ],\n",
    "        palette=\"deep\", s = 200, ax = ax, data = data)\n",
    "    \n",
    "    plt.errorbar(data.get('bin'), data.get('mean'), yerr = data.get('sem'), \n",
    "        fmt = '.', ecolor='0.5', color='0.5',\n",
    "        capsize = 10 , elinewidth = 1, capthick = 1)\n",
    "    plt.ylim(0, 1.0)\n",
    "    plt.title('Win percentage against bot strategies')\n",
    "    plt.xlabel('Trial round')\n",
    "    plt.ylabel('Mean win percentage')\n",
    "    plt.axhline(y = 1/3, color = 'r', linestyle = '--')\n",
    "    \n",
    "    plt.savefig(os.path.join('img', 'critical_trial_intervention_dist.png'), dpi=300, bbox_inches='tight', transparent=True)\n",
    "    \n",
    "    return"
   ]
  },
  {
   "cell_type": "code",
   "execution_count": null,
   "id": "47bb6f6d",
   "metadata": {},
   "outputs": [],
   "source": []
  }
 ],
 "metadata": {
  "kernelspec": {
   "display_name": "Python 3 (ipykernel)",
   "language": "python",
   "name": "python3"
  },
  "language_info": {
   "codemirror_mode": {
    "name": "ipython",
    "version": 3
   },
   "file_extension": ".py",
   "mimetype": "text/x-python",
   "name": "python",
   "nbconvert_exporter": "python",
   "pygments_lexer": "ipython3",
   "version": "3.8.3"
  }
 },
 "nbformat": 4,
 "nbformat_minor": 5
}